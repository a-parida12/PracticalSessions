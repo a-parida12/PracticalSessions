{
 "cells": [
  {
   "cell_type": "markdown",
   "metadata": {
    "colab_type": "text",
    "id": "view-in-github"
   },
   "source": [
    "<a href=\"https://colab.research.google.com/github/nassma2019/PracticalSessions/blob/master/introductory/Intro_Numpy_And_Plotting.ipynb\" target=\"_parent\"><img src=\"https://colab.research.google.com/assets/colab-badge.svg\" alt=\"Open In Colab\"/></a>"
   ]
  },
  {
   "cell_type": "markdown",
   "metadata": {
    "colab_type": "text",
    "id": "TK_s931vVvwi"
   },
   "source": [
    "# Numpy\n",
    "\n",
    "\" NumPy is the fundamental package for scientific computing with Python.  It contains among other things:\n",
    "\n",
    "* a powerful N-dimensional array object\n",
    "* sophisticated (broadcasting) functions\n",
    "* useful linear algebra, Fourier transform, and random number capabilities \"\n",
    "\n",
    "\n",
    "-- From the [NumPy](http://www.numpy.org/) landing page.\n",
    "\n"
   ]
  },
  {
   "cell_type": "markdown",
   "metadata": {
    "colab_type": "text",
    "id": "kVwjoPsFGgbH"
   },
   "source": [
    "Before learning about numpy, we introduce..\n",
    "\n",
    "### The NXOR Function\n",
    "\n",
    "Many of the exercises involve working with the  $\\mathrm{NXOR} \\colon \\; [-1, 1]^2  \\rightarrow \\{-1, +1\\}$ function defined as \n",
    "\n",
    "$$ (x_1, x_2) \\longmapsto \\mathrm{sgn}(x_1 \\cdot x_2) .$$\n",
    "\n",
    "where for $x_1 \\cdot x_2 = 0$ we let $\\mathrm{NXOR}(x_1, x_2) = -1$.\n",
    "\n",
    "We can visualize this function as\n",
    "\n",
    "![A set of points in \\[-1, +1\\]^2 with green and red markers denoting the value assigned to them by the NXOR function](https://github.com/tmlss2018/PracticalSessions/blob/master/assets/nxor_labels.png?raw=true)\n",
    "\n",
    "where each point in $ [-1, 1]^2$ is marked by green (+1) or red (-1) according to the value assigned to it by the NXOR function.\n",
    "\n",
    "\n"
   ]
  },
  {
   "cell_type": "markdown",
   "metadata": {
    "colab_type": "text",
    "id": "9HfKNF9JG3Sg"
   },
   "source": [
    "\n",
    "Over the course of the intro lab exercises we will\n",
    "\n",
    "1. Generate such data with numpy.\n",
    "2. Create the plot above with matplotlib.\n",
    "3. Train a model to learn this function.\n"
   ]
  },
  {
   "cell_type": "markdown",
   "metadata": {
    "colab_type": "text",
    "id": "psAhyeala4Qa"
   },
   "source": [
    "### Setup and imports. Run the following cell."
   ]
  },
  {
   "cell_type": "code",
   "execution_count": 1,
   "metadata": {
    "colab": {},
    "colab_type": "code",
    "id": "jJmfT0IMa494"
   },
   "outputs": [],
   "source": [
    "import numpy as np"
   ]
  },
  {
   "cell_type": "markdown",
   "metadata": {
    "colab_type": "text",
    "id": "209T8819ws6R"
   },
   "source": [
    "### Random numbers in numpy"
   ]
  },
  {
   "cell_type": "code",
   "execution_count": 2,
   "metadata": {
    "colab": {
     "base_uri": "https://localhost:8080/",
     "height": 71
    },
    "colab_type": "code",
    "id": "HPoRLRxdwyHs",
    "outputId": "4d166286-cc6f-4221-a86e-4140a003044c"
   },
   "outputs": [
    {
     "data": {
      "text/plain": [
       "array([[0.30306603, 0.96058717],\n",
       "       [0.59019758, 0.79387638],\n",
       "       [0.53665133, 0.01697878]])"
      ]
     },
     "execution_count": 2,
     "metadata": {},
     "output_type": "execute_result"
    }
   ],
   "source": [
    "np.random.random((3, 2))  # Array of shape (3, 2), entries uniform in [0, 1)."
   ]
  },
  {
   "cell_type": "markdown",
   "metadata": {
    "colab_type": "text",
    "id": "d1xeqjN_eGrM"
   },
   "source": [
    "Note that (as usual in computing) numpy produces pseudo-random numbers based on a seed, or more precisely a random state. In order to make random sequences and calculations based on reproducible, use\n",
    "\n",
    "* the [`np.random.seed()`](https://docs.scipy.org/doc/numpy/reference/generated/numpy.random.seed.html) function to set the default global seed, or\n",
    "* the [`np.random.RandomState`](https://docs.scipy.org/doc/numpy/reference/generated/numpy.random.RandomState.html) class which is a container for a pseudo-random number generator and exposes methods for generating random numbers.\n"
   ]
  },
  {
   "cell_type": "code",
   "execution_count": 3,
   "metadata": {
    "colab": {
     "base_uri": "https://localhost:8080/",
     "height": 53
    },
    "colab_type": "code",
    "id": "knUtcFWoFqK0",
    "outputId": "2676bd0a-898d-4c37-bc7e-4a67dc7da825"
   },
   "outputs": [
    {
     "name": "stdout",
     "output_type": "stream",
     "text": [
      "[0.5488135  0.71518937]\n",
      "[0.5488135  0.71518937]\n"
     ]
    }
   ],
   "source": [
    "np.random.seed(0)\n",
    "print(np.random.random(2))\n",
    "# Reset the global random state to the same state.\n",
    "np.random.seed(0)\n",
    "print(np.random.random(2))"
   ]
  },
  {
   "cell_type": "markdown",
   "metadata": {
    "colab_type": "text",
    "id": "Tz435THaxePN"
   },
   "source": [
    "### Numpy Array Operations 1\n",
    "\n",
    "There are a large number of operations you can run on any numpy array. Here we showcase some common ones."
   ]
  },
  {
   "cell_type": "code",
   "execution_count": 4,
   "metadata": {
    "colab": {
     "height": 215
    },
    "colab_type": "code",
    "id": "YZbsqkyXxgUo",
    "outputId": "d8c7ecdf-2681-49e1-eb3f-c73d5c2793d3"
   },
   "outputs": [
    {
     "name": "stdout",
     "output_type": "stream",
     "text": [
      "The array:\n",
      " [[0.  0.2]\n",
      " [0.9 0.5]\n",
      " [0.3 0.7]]\n",
      "\n",
      "data type float64\n",
      "transpose\n",
      " [[0.  0.9 0.3]\n",
      " [0.2 0.5 0.7]]\n",
      "shape (3, 2)\n",
      "reshaping an array [0.  0.2 0.9 0.5 0.3 0.7]\n"
     ]
    }
   ],
   "source": [
    "# Create one from hard-coded data:\n",
    "ar = np.array([\n",
    "    [0.0, 0.2],\n",
    "    [0.9, 0.5],\n",
    "    [0.3, 0.7],\n",
    "], dtype=np.float64)  # float64 is the default.\n",
    "\n",
    "print('The array:\\n', ar)\n",
    "print()\n",
    "\n",
    "print('data type', ar.dtype)\n",
    "print('transpose\\n', ar.T)\n",
    "print('shape', ar.shape)\n",
    "print('reshaping an array', ar.reshape((6)))\n",
    "\n"
   ]
  },
  {
   "cell_type": "markdown",
   "metadata": {
    "colab_type": "text",
    "id": "s5wC8i8_4WBf"
   },
   "source": [
    "Many numpy operations are available both as np module functions as well as array methods. For example, we can also reshape as"
   ]
  },
  {
   "cell_type": "code",
   "execution_count": 5,
   "metadata": {
    "colab": {
     "height": 125
    },
    "colab_type": "code",
    "id": "AjGy5myl4jxo",
    "outputId": "3d93238b-0c6c-4998-c9d3-61ee84d73491"
   },
   "outputs": [
    {
     "name": "stdout",
     "output_type": "stream",
     "text": [
      "reshape v2 [[0. ]\n",
      " [0.2]\n",
      " [0.9]\n",
      " [0.5]\n",
      " [0.3]\n",
      " [0.7]]\n"
     ]
    }
   ],
   "source": [
    "print('reshape v2', np.reshape(ar, (6, 1)))"
   ]
  },
  {
   "cell_type": "markdown",
   "metadata": {
    "colab_type": "text",
    "id": "Tt4G37QAGWl4"
   },
   "source": [
    "### Numpy Indexing and selectors\n",
    "\n",
    "Here are some basic indexing examples from numpy."
   ]
  },
  {
   "cell_type": "code",
   "execution_count": 6,
   "metadata": {
    "colab": {
     "height": 71
    },
    "colab_type": "code",
    "id": "4Bbdmb0BGXPc",
    "outputId": "adb57a4d-5bbc-46c8-b8a3-8c28babcc526"
   },
   "outputs": [
    {
     "data": {
      "text/plain": [
       "array([[0. , 0.2],\n",
       "       [0.9, 0.5],\n",
       "       [0.3, 0.7]])"
      ]
     },
     "execution_count": 6,
     "metadata": {},
     "output_type": "execute_result"
    }
   ],
   "source": [
    "ar"
   ]
  },
  {
   "cell_type": "code",
   "execution_count": 7,
   "metadata": {
    "colab": {
     "height": 35
    },
    "colab_type": "code",
    "id": "6lk0NQGGGpRK",
    "outputId": "cf7c88f2-5d23-45d7-dde5-069d1dacd0b6"
   },
   "outputs": [
    {
     "data": {
      "text/plain": [
       "0.2"
      ]
     },
     "execution_count": 7,
     "metadata": {},
     "output_type": "execute_result"
    }
   ],
   "source": [
    "ar[0, 1]  # row, column"
   ]
  },
  {
   "cell_type": "code",
   "execution_count": 8,
   "metadata": {
    "colab": {
     "height": 35
    },
    "colab_type": "code",
    "id": "Eh1zKgqMGpa-",
    "outputId": "15e0c3d1-17cc-437c-915e-783e7f0ece82"
   },
   "outputs": [
    {
     "data": {
      "text/plain": [
       "array([0.2, 0.5, 0.7])"
      ]
     },
     "execution_count": 8,
     "metadata": {},
     "output_type": "execute_result"
    }
   ],
   "source": [
    "ar[:, 1]  # slices: select all elements across the first (0th) axis."
   ]
  },
  {
   "cell_type": "code",
   "execution_count": 9,
   "metadata": {
    "colab": {
     "height": 35
    },
    "colab_type": "code",
    "id": "QVo9SdiWSZqn",
    "outputId": "f9ba4ed8-b2d8-4cf1-836a-2b0c1834cacd"
   },
   "outputs": [
    {
     "data": {
      "text/plain": [
       "array([0.5])"
      ]
     },
     "execution_count": 9,
     "metadata": {},
     "output_type": "execute_result"
    }
   ],
   "source": [
    "ar[1:2, 1]  # slices with syntax from:to, selecting [from, to)."
   ]
  },
  {
   "cell_type": "code",
   "execution_count": 10,
   "metadata": {
    "colab": {
     "height": 35
    },
    "colab_type": "code",
    "id": "n64DQFr7Subs",
    "outputId": "3b07c5d9-2fdd-4756-df4f-61f8f56769b9"
   },
   "outputs": [
    {
     "data": {
      "text/plain": [
       "array([0.5, 0.7])"
      ]
     },
     "execution_count": 10,
     "metadata": {},
     "output_type": "execute_result"
    }
   ],
   "source": [
    "ar[1:, 1]  # Omit `to` to go all the way to the end"
   ]
  },
  {
   "cell_type": "code",
   "execution_count": 11,
   "metadata": {
    "colab": {
     "height": 35
    },
    "colab_type": "code",
    "id": "Uq7bmNPVTD2B",
    "outputId": "9906745e-425f-4bea-ba01-3fbceb8c5ccb"
   },
   "outputs": [
    {
     "data": {
      "text/plain": [
       "array([0.2, 0.5])"
      ]
     },
     "execution_count": 11,
     "metadata": {},
     "output_type": "execute_result"
    }
   ],
   "source": [
    "ar[:2, 1]  # Omit `from` to start from the beginning"
   ]
  },
  {
   "cell_type": "code",
   "execution_count": 12,
   "metadata": {
    "colab": {
     "height": 35
    },
    "colab_type": "code",
    "id": "uJ7A1vVWTKQc",
    "outputId": "b36388c7-15ed-4e05-8450-2af284c0d3e1"
   },
   "outputs": [
    {
     "data": {
      "text/plain": [
       "array([0.2, 0.5])"
      ]
     },
     "execution_count": 12,
     "metadata": {},
     "output_type": "execute_result"
    }
   ],
   "source": [
    "ar[0:-1, 1]  # Use negative indexing to count elements from the back."
   ]
  },
  {
   "cell_type": "markdown",
   "metadata": {
    "colab_type": "text",
    "id": "CVizP583IolT"
   },
   "source": [
    "We can also pass boolean arrays as indices. These will exactly define which elements to select."
   ]
  },
  {
   "cell_type": "code",
   "execution_count": 13,
   "metadata": {
    "colab": {
     "height": 35
    },
    "colab_type": "code",
    "id": "-91q2Si7IBGN",
    "outputId": "6527af01-583f-43dc-ecff-9a894689a25e"
   },
   "outputs": [
    {
     "data": {
      "text/plain": [
       "array([0. , 0.5, 0.3])"
      ]
     },
     "execution_count": 13,
     "metadata": {},
     "output_type": "execute_result"
    }
   ],
   "source": [
    "ar[np.array([\n",
    "    [True, False],\n",
    "    [False, True],\n",
    "    [True, False],\n",
    "])]"
   ]
  },
  {
   "cell_type": "markdown",
   "metadata": {
    "colab_type": "text",
    "id": "g9VttyKZI2aX"
   },
   "source": [
    "Boolean arrays can be created with logical operations, then used as selectors. Logical operators apply elementwise."
   ]
  },
  {
   "cell_type": "code",
   "execution_count": 14,
   "metadata": {
    "colab": {
     "height": 71
    },
    "colab_type": "code",
    "id": "KyH_50JVIWOK",
    "outputId": "8317ec82-a6aa-46ec-fd2c-34016fb69cf7"
   },
   "outputs": [
    {
     "data": {
      "text/plain": [
       "array([[ 0. , -inf],\n",
       "       [ 0.9,  0.5],\n",
       "       [-inf,  0.7]])"
      ]
     },
     "execution_count": 14,
     "metadata": {},
     "output_type": "execute_result"
    }
   ],
   "source": [
    "ar_2 = np.array([   # Nearly the same as ar\n",
    "    [0.0, 0.1],\n",
    "    [0.9, 0.5],\n",
    "    [0.0, 0.7],\n",
    "])\n",
    "\n",
    "# Where ar_2 is smaller than ar, let ar_2 be -inf.\n",
    "ar_2[ar_2 < ar] = -np.inf\n",
    "ar_2"
   ]
  },
  {
   "cell_type": "markdown",
   "metadata": {
    "colab_type": "text",
    "id": "-GwBK4LJGpjK"
   },
   "source": [
    "### Numpy Operations 2"
   ]
  },
  {
   "cell_type": "code",
   "execution_count": 15,
   "metadata": {
    "colab": {
     "height": 179
    },
    "colab_type": "code",
    "id": "gHElhCDy4SrG",
    "outputId": "bd4ae4ac-e1d9-4dd8-80f7-96f6ed9b0425"
   },
   "outputs": [
    {
     "name": "stdout",
     "output_type": "stream",
     "text": [
      "array:\n",
      " [[0.  0.2]\n",
      " [0.9 0.5]\n",
      " [0.3 0.7]]\n",
      "\n",
      "sum across axis 0 (rows): [1.2 1.4]\n",
      "mean 0.43333333333333335\n",
      "min 0.0\n",
      "row-wise min [0.  0.5 0.3]\n"
     ]
    }
   ],
   "source": [
    "print('array:\\n', ar)\n",
    "print()\n",
    "\n",
    "print('sum across axis 0 (rows):', ar.sum(axis=0))\n",
    "print('mean', ar.mean())\n",
    "print('min', ar.min())\n",
    "print('row-wise min', ar.min(axis=1))\n"
   ]
  },
  {
   "cell_type": "markdown",
   "metadata": {
    "colab_type": "text",
    "id": "bSNi0aLs03J1"
   },
   "source": [
    "We can also take element-wise minimums between two arrays.\n",
    "\n",
    "We may want to do this when \"clipping\" values in a matrix, that is, setting any values larger than, say, 0.6, to 0.6. We would do this in numpy with..\n",
    "\n",
    "### Broadcasting (and selectors)\n",
    "\n",
    "We will briefly see some examples of broadcasting, but feel free to see the references at the end of the notebook for more information."
   ]
  },
  {
   "cell_type": "code",
   "execution_count": 16,
   "metadata": {
    "colab": {
     "height": 71
    },
    "colab_type": "code",
    "id": "GLCN0umLxuLv",
    "outputId": "267a0ab2-0c11-4583-c198-9e6d8d886983"
   },
   "outputs": [
    {
     "data": {
      "text/plain": [
       "array([[0. , 0.2],\n",
       "       [0.6, 0.5],\n",
       "       [0.3, 0.6]])"
      ]
     },
     "execution_count": 16,
     "metadata": {},
     "output_type": "execute_result"
    }
   ],
   "source": [
    "np.minimum(ar, 0.6)"
   ]
  },
  {
   "cell_type": "markdown",
   "metadata": {
    "colab_type": "text",
    "id": "Kmq7Yf_73GgC"
   },
   "source": [
    "Numpy automatically turns the scalar 0.6 into an array the same size as `ar` in order to take element-wise minimum.\n",
    "\n"
   ]
  },
  {
   "cell_type": "markdown",
   "metadata": {
    "colab_type": "text",
    "id": "vkM1cL-pBrEE"
   },
   "source": [
    "Here we follow with a selection of other useful broadcasting examples.\n"
   ]
  },
  {
   "cell_type": "code",
   "execution_count": 17,
   "metadata": {
    "colab": {
     "height": 89
    },
    "colab_type": "code",
    "id": "S52hBSnG5JRa",
    "outputId": "37525b66-113a-43d1-e426-8176b0672ba1"
   },
   "outputs": [
    {
     "name": "stdout",
     "output_type": "stream",
     "text": [
      "centered array:\n",
      " [[-0.43333333 -0.23333333]\n",
      " [ 0.46666667  0.06666667]\n",
      " [-0.13333333  0.26666667]]\n"
     ]
    }
   ],
   "source": [
    "# Centering our array.\n",
    "print('centered array:\\n', ar - np.mean(ar)) "
   ]
  },
  {
   "cell_type": "markdown",
   "metadata": {
    "colab_type": "text",
    "id": "mS5IDFrA6ig3"
   },
   "source": [
    "Note that `np.mean()` was a scalar, but it is automatically subtracted from every element.\n"
   ]
  },
  {
   "cell_type": "markdown",
   "metadata": {
    "colab_type": "text",
    "id": "QzLtiYXUFN5P"
   },
   "source": [
    "Vectors may also be broadcast into matrices."
   ]
  },
  {
   "cell_type": "code",
   "execution_count": 18,
   "metadata": {
    "colab": {
     "height": 71
    },
    "colab_type": "code",
    "id": "n2gv3YVf5JZL",
    "outputId": "012fd424-9776-43c2-dc6a-8c845f1f6dc1"
   },
   "outputs": [
    {
     "data": {
      "text/plain": [
       "array([[1. , 2.2],\n",
       "       [1.9, 2.5],\n",
       "       [1.3, 2.7]])"
      ]
     },
     "execution_count": 18,
     "metadata": {},
     "output_type": "execute_result"
    }
   ],
   "source": [
    "vec = np.array([1, 2])\n",
    "ar + vec"
   ]
  },
  {
   "cell_type": "markdown",
   "metadata": {
    "colab_type": "text",
    "id": "bBLjzt84A2ZL"
   },
   "source": [
    "If there is a shape mismatch, you will be informed. To try, uncomment the line below and run it."
   ]
  },
  {
   "cell_type": "code",
   "execution_count": 19,
   "metadata": {
    "colab": {},
    "colab_type": "code",
    "id": "sViqTRjXAWhN"
   },
   "outputs": [],
   "source": [
    "#ar + np.array([[1, 2, 3]])"
   ]
  },
  {
   "cell_type": "markdown",
   "metadata": {
    "colab_type": "text",
    "id": "KQZcrYaJxOOR"
   },
   "source": [
    "Broadcasting can save us a lot of typing, but in complicated cases it may require a good understanding of the exact rules followed.\n",
    "\n",
    "Some references around broadcasting (not necessary for the needs of this lab):\n",
    "\n",
    "* [Numpy page that explains broadcasting](https://docs.scipy.org/doc/numpy-1.13.0/user/basics.broadcasting.html)\n",
    "* [Similar content with some visualizations](http://scipy.github.io/old-wiki/pages/EricsBroadcastingDoc)\n",
    "\n",
    "Now you know more than enough to generate some example data for our `NXOR` function.\n",
    "\n",
    "### Exercise: Generate Data for NXOR\n",
    "\n",
    "Write a function `get_data(num_examples)` that returns two numpy arrays\n",
    "\n",
    "* `inputs` of shape  `num_examples x 2` with points selected uniformly from the $[-1, 1]^2$ domain.\n",
    "* `labels` of shape `num_examples` with the associated output of `NXOR`."
   ]
  },
  {
   "cell_type": "code",
   "execution_count": 20,
   "metadata": {
    "cellView": "both",
    "colab": {},
    "colab_type": "code",
    "id": "SlZD-vcTVv-t"
   },
   "outputs": [],
   "source": [
    "#@title Code\n",
    "\n",
    "def get_data(num_examples):\n",
    "  # Replace with your code.\n",
    "  return np.zeros((num_examples, 2)), np.zeros((num_examples))\n"
   ]
  },
  {
   "cell_type": "code",
   "execution_count": 21,
   "metadata": {
    "cellView": "form",
    "colab": {},
    "colab_type": "code",
    "id": "JWHBltJ7fimG"
   },
   "outputs": [],
   "source": [
    "#@title Solution\n",
    "\n",
    "# Solution 1.\n",
    "def get_data(num_examples):\n",
    "  inputs = 2*np.random.random((num_examples, 2)) - 1\n",
    "  labels = np.prod(inputs, axis=1)\n",
    "  labels[labels <= 0] = -1 \n",
    "  labels[labels > 0] = 1 \n",
    "  return inputs, labels\n",
    "\n",
    "# Solution 1.\n",
    "# def get_data(num_examples):\n",
    "#   inputs = 2*np.random.random((num_examples, 2)) - 1\n",
    "#   labels = np.sign(np.prod(inputs, axis=1))\n",
    "#   labels[labels == 0] = -1 \n",
    "#   return inputs, labels\n"
   ]
  },
  {
   "cell_type": "code",
   "execution_count": 22,
   "metadata": {
    "colab": {
     "height": 89
    },
    "colab_type": "code",
    "id": "8HhjadmmvZyc",
    "outputId": "d0cf93b7-3136-4e77-cbfa-004118f7e6c0"
   },
   "outputs": [
    {
     "data": {
      "text/plain": [
       "(array([[ 0.20552675,  0.08976637],\n",
       "        [-0.1526904 ,  0.29178823],\n",
       "        [-0.12482558,  0.783546  ],\n",
       "        [ 0.92732552, -0.23311696]]), array([ 1., -1., -1., -1.]))"
      ]
     },
     "execution_count": 22,
     "metadata": {},
     "output_type": "execute_result"
    }
   ],
   "source": [
    "get_data(4)"
   ]
  },
  {
   "cell_type": "markdown",
   "metadata": {
    "colab_type": "text",
    "id": "6zF1zr4ODp60"
   },
   "source": [
    "# Plotting with matplotlib + more numpy\n",
    "\n",
    "We will use [matplotlib](https://matplotlib.org/) to\n",
    "\n",
    "* make scatter plots\n",
    "* plot of (training) curves\n",
    "* show images.\n",
    "\n",
    "There are many good tutorials for these on the internet, so we keep it short here with annotated full examples.\n"
   ]
  },
  {
   "cell_type": "code",
   "execution_count": 23,
   "metadata": {
    "cellView": "both",
    "colab": {},
    "colab_type": "code",
    "id": "vKv9b44EEAqJ"
   },
   "outputs": [],
   "source": [
    "#@title Setup and Imports. Run this cell.\n",
    "\n",
    "import random\n",
    "import seaborn as sns\n",
    "import numpy as np\n",
    "\n",
    "from matplotlib import pyplot as plt\n",
    "from scipy.stats import multivariate_normal\n",
    "\n",
    "sns.set_style('ticks')\n",
    "\n",
    "\n",
    "def get_data(num_examples):\n",
    "  inputs = 2*np.random.random((num_examples, 2)) - 1\n",
    "  labels = np.prod(inputs, axis=1)\n",
    "  labels[labels <= 0] = -1 \n",
    "  labels[labels > 0] = 1 \n",
    "  return inputs, labels\n"
   ]
  },
  {
   "cell_type": "markdown",
   "metadata": {
    "colab_type": "text",
    "id": "fBoiMrH1eHLo"
   },
   "source": [
    "The import corresponding to matplotlib is `from matplotlib import pyplot as plt` and it will be used as `plt.some_function()`.\n"
   ]
  },
  {
   "cell_type": "markdown",
   "metadata": {
    "colab_type": "text",
    "id": "ighZ0qCBUuWm"
   },
   "source": [
    "We start by **recreating the visualization of the NXOR function** introduced in the numpy colab.\n",
    "\n",
    "In the same colab we wrote a function `get_data()` to generate numpy arrays with inputs and outputs of the NXOR function. In the setup cell above we redefined `get_data()`. Use it to generate a dataset of 100 examples."
   ]
  },
  {
   "cell_type": "code",
   "execution_count": 24,
   "metadata": {
    "colab": {},
    "colab_type": "code",
    "id": "fyUeXhkoQOQ_"
   },
   "outputs": [],
   "source": [
    "inputs, labels = get_data(100)"
   ]
  },
  {
   "cell_type": "markdown",
   "metadata": {
    "colab_type": "text",
    "id": "pqG2GV04UTty"
   },
   "source": [
    "### Scatter Plot"
   ]
  },
  {
   "cell_type": "code",
   "execution_count": 25,
   "metadata": {
    "colab": {
     "base_uri": "https://localhost:8080/",
     "height": 368
    },
    "colab_type": "code",
    "id": "W5eFm0T1vZ2i",
    "outputId": "28fcd83b-5671-477a-81c8-e9d0b813ce79"
   },
   "outputs": [
    {
     "data": {
      "image/png": "[encoded data removed]",
      "text/plain": [
       "<matplotlib.figure.Figure at 0x1128ddf28>"
      ]
     },
     "metadata": {},
     "output_type": "display_data"
    }
   ],
   "source": [
    "MARKER_COLORS = np.array([\n",
    "    [1.0, 0.0, 0.0],  # red for -1 \n",
    "    [0.0, 1.0, 0.0],  # green for +1\n",
    "])\n",
    "# Convert the labels to colors.\n",
    "class_idx = (labels + 1 / 2.0).astype(np.int)\n",
    "\n",
    "# Visualize the data.\n",
    "\n",
    "plt.figure()\n",
    "plt.title('Visualizing the labels assigned by NXOR')\n",
    "plt.scatter(\n",
    "    x=inputs[:, 0], y=inputs[:, 1], c=MARKER_COLORS[class_idx], alpha=0.8)\n",
    "\n",
    "plt.savefig('nxor_data.png', bbox_inches='tight')  # Can save it, or\n",
    "plt.show()  # More often just display it."
   ]
  },
  {
   "cell_type": "markdown",
   "metadata": {
    "colab_type": "text",
    "id": "ZMLU-Ek0PPIa"
   },
   "source": [
    "### Downloading matplotlib plots from colab"
   ]
  },
  {
   "cell_type": "code",
   "execution_count": 26,
   "metadata": {
    "colab": {},
    "colab_type": "code",
    "id": "_m_3P-oxVoc9"
   },
   "outputs": [],
   "source": [
    "# If you would like to do this, uncomment and run the lines below.\n",
    "# from google.colab import files\n",
    "# files.download('nxor_data.png')"
   ]
  },
  {
   "cell_type": "markdown",
   "metadata": {
    "colab_type": "text",
    "id": "6_rVo6Zwg2Sm"
   },
   "source": [
    "### Exercise: Make markers class dependent\n",
    "\n",
    "Create a scatter plot like above, but use an 'o' marker for negative examples and 'x' marker for positive ones.\n",
    "\n",
    "*Note:* it is not possible to pass markers like colors to `scatter`, instead you will have to call `scatter` twice, independently for each class. In this case you will also have to look up how to provide labels for data plotted."
   ]
  },
  {
   "cell_type": "code",
   "execution_count": 27,
   "metadata": {
    "colab": {},
    "colab_type": "code",
    "id": "pB-GsWvvq_Ji"
   },
   "outputs": [],
   "source": [
    "#@title Code"
   ]
  },
  {
   "cell_type": "code",
   "execution_count": 28,
   "metadata": {
    "cellView": "form",
    "colab": {
     "base_uri": "https://localhost:8080/",
     "height": 368
    },
    "colab_type": "code",
    "id": "kNcymy8QrA48",
    "outputId": "d7be20e7-63db-48a8-c2bd-c0b4691b2d77"
   },
   "outputs": [
    {
     "data": {
      "image/png": "[encoded data removed]",
      "text/plain": [
       "<matplotlib.figure.Figure at 0x1129608d0>"
      ]
     },
     "metadata": {},
     "output_type": "display_data"
    }
   ],
   "source": [
    "#@title Solution\n",
    "\n",
    "neg_inputs = inputs[labels == -1]\n",
    "pos_inputs = inputs[labels == 1]\n",
    "\n",
    "plt.figure()\n",
    "plt.title('Visualizing the labels assigned by NXOR')\n",
    "plt.scatter(\n",
    "    x=neg_inputs[:, 0], y=neg_inputs[:, 1], c='r',\n",
    "    marker='o', alpha=0.8, label='neg')\n",
    "plt.scatter(\n",
    "    x=pos_inputs[:, 0], y=pos_inputs[:, 1], c='b',\n",
    "    marker='x', alpha=0.8, label='pos')\n",
    "plt.legend()\n",
    "\n",
    "plt.show()"
   ]
  },
  {
   "cell_type": "markdown",
   "metadata": {
    "colab_type": "text",
    "id": "8ghfTnlCMGtB"
   },
   "source": [
    "### Plotting Curves\n",
    "\n",
    "Curves assign y-values to a sequence of x-values. Here we will show how to plot two different curves onto the same plot, so they can be compared."
   ]
  },
  {
   "cell_type": "code",
   "execution_count": 29,
   "metadata": {
    "colab": {
     "base_uri": "https://localhost:8080/",
     "height": 368
    },
    "colab_type": "code",
    "id": "BaNH30tIWCgq",
    "outputId": "683f011d-286b-4536-ef66-7ec0dd4519eb"
   },
   "outputs": [
    {
     "data": {
      "image/png": "[encoded data removed]",
      "text/plain": [
       "<matplotlib.figure.Figure at 0x112968240>"
      ]
     },
     "metadata": {},
     "output_type": "display_data"
    }
   ],
   "source": [
    "# Create [0, ..., 1] evenly spaced with 50 elements:\n",
    "xs = np.linspace(start=0, stop=1, num=50)\n",
    "\n",
    "y_real = np.sin(xs*2*np.pi)\n",
    "\n",
    "# Pretend there is some noise at each timesteps.\n",
    "err = np.random.normal(loc=0.0, scale=0.08, size=y_real.shape)\n",
    "err = np.cumsum(err)  # Which adds up over time.\n",
    "y_measured = y_real + err  # Yielding the final measured signal.\n",
    "\n",
    "\n",
    "plt.figure()\n",
    "plt.title('Sine(x) and its Estimation from noisy Measurements')\n",
    "plt.plot(xs, y_real, c='r', label='Sine')\n",
    "plt.plot(xs, y_measured, c='b', label='Estimated')\n",
    "plt.legend()\n",
    "plt.show()"
   ]
  },
  {
   "cell_type": "markdown",
   "metadata": {
    "colab_type": "text",
    "id": "K33llrEWiLKT"
   },
   "source": [
    "### Exercise: plot another two curves\n",
    "\n",
    "Plot the two new curves defined below.\n",
    "\n",
    "\n"
   ]
  },
  {
   "cell_type": "code",
   "execution_count": 30,
   "metadata": {
    "colab": {},
    "colab_type": "code",
    "id": "OV4jFsAYiLoh"
   },
   "outputs": [],
   "source": [
    "xs = np.linspace(start=0, stop=1, num=50)\n",
    "y_real = np.cos(xs*2*np.pi)\n",
    "err = np.random.normal(loc=0.0, scale=0.02, size=xs.shape)\n",
    "err = np.cumsum(err)\n",
    "y_measured = np.cos((xs+err)*2*np.pi)"
   ]
  },
  {
   "cell_type": "markdown",
   "metadata": {
    "colab_type": "text",
    "id": "R_iq80JAsxww"
   },
   "source": [
    "\n",
    "You can try modifying:\n",
    "\n",
    "* colors\n",
    "* data labels,\n",
    "* plot title\n",
    "* adding a legend,\n",
    "* axes labels,\n",
    "* setting axes limits."
   ]
  },
  {
   "cell_type": "code",
   "execution_count": 31,
   "metadata": {
    "colab": {},
    "colab_type": "code",
    "id": "hvQfpAT1svb-"
   },
   "outputs": [],
   "source": [
    "#@title Your Code\n",
    "\n",
    "## Your code here ##"
   ]
  },
  {
   "cell_type": "code",
   "execution_count": 32,
   "metadata": {
    "cellView": "form",
    "colab": {
     "base_uri": "https://localhost:8080/",
     "height": 368
    },
    "colab_type": "code",
    "id": "VDS4eK7Js3Fj",
    "outputId": "6846f6f5-ad01-4992-c869-8425baf6b4b5"
   },
   "outputs": [
    {
     "data": {
      "image/png": "[encoded data removed]",
      "text/plain": [
       "<matplotlib.figure.Figure at 0x10e3b5550>"
      ]
     },
     "metadata": {},
     "output_type": "display_data"
    }
   ],
   "source": [
    "#@title Solution\n",
    "\n",
    "plt.figure()\n",
    "plt.title('Cos(x) and its Noised Version')\n",
    "plt.plot(xs, y_real, c='r', label='Cos')\n",
    "plt.plot(xs, y_measured, c='b', label='Noised')\n",
    "plt.legend()\n",
    "plt.show()"
   ]
  },
  {
   "cell_type": "markdown",
   "metadata": {
    "colab_type": "text",
    "id": "5WAtVbIHMGzL"
   },
   "source": [
    "### Displaying images with matplotlib\n",
    "\n",
    "`matplotlib` can display an array as an image. This will come in handy for displaying images our neural networks drew.\n",
    "\n"
   ]
  },
  {
   "cell_type": "markdown",
   "metadata": {
    "colab_type": "text",
    "id": "lPaVcH4svpfr"
   },
   "source": [
    "We don't have an image in array form here, so instead we will visualize the pdf of a bivariate normal distribution. The details of how this image is created (the next two cells) are not important.\n",
    "\n",
    "#### Creating an image array"
   ]
  },
  {
   "cell_type": "code",
   "execution_count": 33,
   "metadata": {
    "colab": {
     "base_uri": "https://localhost:8080/",
     "height": 35
    },
    "colab_type": "code",
    "id": "ngV0sbMNulWy",
    "outputId": "f7c7892f-aa58-4a08-ef39-93b34c0671e6"
   },
   "outputs": [
    {
     "data": {
      "text/plain": [
       "array([1.59154943e-01, 7.02880071e-34, 6.43848407e-02])"
      ]
     },
     "execution_count": 33,
     "metadata": {},
     "output_type": "execute_result"
    }
   ],
   "source": [
    "normal = multivariate_normal(mean=[0,0], cov=[[1,0],[0,1]])\n",
    "# We can get the density of a number of points like so:\n",
    "normal.pdf(np.array([[0, 0], [-10, 7], [1, 0.9]]))"
   ]
  },
  {
   "cell_type": "code",
   "execution_count": 34,
   "metadata": {
    "colab": {},
    "colab_type": "code",
    "id": "CcTWGHNZw2cg"
   },
   "outputs": [],
   "source": [
    "# Define the grid of points over which the pdf is evaluated.\n",
    "RANGE = 3\n",
    "GRANULARITY = 30\n",
    "\n",
    "x = np.linspace(-RANGE, RANGE, GRANULARITY)\n",
    "y = np.linspace(-RANGE, RANGE, GRANULARITY)\n",
    "XX, YY = np.meshgrid(x, y)\n",
    "\n",
    "# Now (XX[i,j], YY[i,j]) give the x,y coordinates of points in the grid,\n",
    "# create an array such that XY[i, j] = [x, y].\n",
    "XY = np.stack([XX, YY], axis=-1)\n",
    "\n",
    "probabilities = normal.pdf(XY)"
   ]
  },
  {
   "cell_type": "markdown",
   "metadata": {
    "colab_type": "text",
    "id": "TiEwqRiaxSvb"
   },
   "source": [
    "#### Show the image\n",
    "\n",
    "`probabilities` is now a 2D array with values corresponding to densities. We can display it in grayscale.\n",
    "\n"
   ]
  },
  {
   "cell_type": "code",
   "execution_count": 35,
   "metadata": {
    "colab": {
     "base_uri": "https://localhost:8080/",
     "height": 359
    },
    "colab_type": "code",
    "id": "g8cpgKzqz05u",
    "outputId": "ec19e9f7-8824-4046-ad2a-b91367ea4096"
   },
   "outputs": [
    {
     "data": {
      "image/png": "[encoded data removed]",
      "text/plain": [
       "<matplotlib.figure.Figure at 0x10e3adf98>"
      ]
     },
     "metadata": {},
     "output_type": "display_data"
    }
   ],
   "source": [
    "plt.gray()\n",
    "plt.imshow(probabilities)\n",
    "plt.show()"
   ]
  },
  {
   "cell_type": "markdown",
   "metadata": {
    "colab_type": "text",
    "id": "dJHNAa4Az5yt"
   },
   "source": [
    "We can remove the axes and labels from the display for a cleaner look. Also note the difference in setting grayscale mode in the next cell."
   ]
  },
  {
   "cell_type": "code",
   "execution_count": 36,
   "metadata": {
    "colab": {
     "base_uri": "https://localhost:8080/",
     "height": 359
    },
    "colab_type": "code",
    "id": "y0T50H360FEJ",
    "outputId": "264f45d7-ba21-41e6-e6b0-4198902595c8"
   },
   "outputs": [
    {
     "data": {
      "image/png": "[encoded data removed]",
      "text/plain": [
       "<matplotlib.figure.Figure at 0x112cb4b70>"
      ]
     },
     "metadata": {},
     "output_type": "display_data"
    }
   ],
   "source": [
    "plt.axis('off')\n",
    "plt.imshow(probabilities, cmap='gray')\n",
    "plt.show()"
   ]
  },
  {
   "cell_type": "markdown",
   "metadata": {
    "colab_type": "text",
    "id": "OiuNCUy-z2YO"
   },
   "source": [
    "### Exercise: make and display a coloured image\n",
    "\n",
    "Display the image in red.\n",
    "\n",
    "Helpful facts:\n",
    "\n",
    "* `imshow()` takes arrays of size `n x m x 3` and interprets the last axis as an rgb channel.\n",
    "* The largest value in `probabilities` was around `0.15`,  so unless you rescale your array the image will be dark.\n",
    "\n",
    "The grayscale image plotting automatically rescaled the entries in the `probabilities` array!"
   ]
  },
  {
   "cell_type": "code",
   "execution_count": 37,
   "metadata": {
    "colab": {},
    "colab_type": "code",
    "id": "-nAIUl3c09gI"
   },
   "outputs": [],
   "source": [
    "#@title Your Code\n",
    "\n"
   ]
  },
  {
   "cell_type": "code",
   "execution_count": 38,
   "metadata": {
    "cellView": "form",
    "colab": {
     "base_uri": "https://localhost:8080/",
     "height": 359
    },
    "colab_type": "code",
    "id": "s2XMqD1O080h",
    "outputId": "26892eda-a851-4c80-a5ff-3a42c31e6f61"
   },
   "outputs": [
    {
     "data": {
      "image/png": "[encoded data removed]",
      "text/plain": [
       "<matplotlib.figure.Figure at 0x112efbeb8>"
      ]
     },
     "metadata": {},
     "output_type": "display_data"
    }
   ],
   "source": [
    "#@title Solution\n",
    "\n",
    "# You may not have seen all calls in this solution.\n",
    "# There are many ways to accomplish the same.\n",
    "\n",
    "rescaled_probs = probabilities / np.max(probabilities)\n",
    "red_image = np.zeros(list(probabilities.shape) + [3])\n",
    "red_image[:, :, 0] = rescaled_probs\n",
    "\n",
    "plt.axis('off')\n",
    "plt.imshow(red_image)\n",
    "plt.show()"
   ]
  },
  {
   "cell_type": "markdown",
   "metadata": {
    "colab_type": "text",
    "id": "8olyq-0uf2bC"
   },
   "source": [
    "### Showing a Grid of Images\n",
    "\n",
    "We define a helper function to turn a batch of images into a grid. You do not need to care about its implementation, but check its documentation as you will use the same function later in this lab and other labs."
   ]
  },
  {
   "cell_type": "code",
   "execution_count": 39,
   "metadata": {
    "colab": {},
    "colab_type": "code",
    "id": "E-wWhz7-Vwmr"
   },
   "outputs": [],
   "source": [
    "def gallery(array, ncols=10, rescale=True):\n",
    "  \"\"\"Take a batch of images and arrange them in a grid.\n",
    "  \n",
    "  Args:\n",
    "    array: of shape batch_size x height x width x 3. The final x3 in the shape\n",
    "      is optional.\n",
    "    ncols: number of columns to have in the grid\n",
    "    rescale: if true (default), increases the intensity of the images.\n",
    "    \n",
    "  Returns:\n",
    "    A numpy array which contains the batch of images arranged into\n",
    "    a grid.\n",
    "  \"\"\"\n",
    "  if rescale:\n",
    "    array = (array + 1.) / 2\n",
    "  nindex, height, width = array.shape[:3]\n",
    "\n",
    "  nrows = nindex//ncols\n",
    "  assert nindex == nrows*ncols\n",
    "\n",
    "  # want result.shape = (height*nrows, width*ncols, intensity?)\n",
    "  abstract_grid_shape = [nrows, ncols, height, width]\n",
    "  image_grid_shape = [height*nrows, width*ncols]\n",
    "  if len(array.shape) == 4:\n",
    "    intensity = array.shape[3]\n",
    "    abstract_grid_shape.append(intensity)\n",
    "    image_grid_shape.append(intensity)\n",
    " \n",
    "  result = (array.reshape(*abstract_grid_shape)\n",
    "            .swapaxes(1,2)\n",
    "            .reshape(*image_grid_shape))\n",
    "  return result\n"
   ]
  },
  {
   "cell_type": "markdown",
   "metadata": {
    "colab_type": "text",
    "id": "yp9Y2dYl7K_-"
   },
   "source": [
    "In order to showcase the use of this function, we make an array corresponding to a batch of images. For simplicity, our batch will just be 8 copies of the red image above.\n",
    "\n",
    "**Before continuing let `red_image` denote the red image you created in the previous exercise.**"
   ]
  },
  {
   "cell_type": "code",
   "execution_count": 40,
   "metadata": {
    "colab": {},
    "colab_type": "code",
    "id": "9nSw-q-SINiR"
   },
   "outputs": [],
   "source": [
    "red_image = red_image  # Replace the second `red_image` by your red image"
   ]
  },
  {
   "cell_type": "code",
   "execution_count": 41,
   "metadata": {
    "colab": {
     "base_uri": "https://localhost:8080/",
     "height": 35
    },
    "colab_type": "code",
    "id": "FWnJD0WjIZyS",
    "outputId": "21dec88d-d605-4941-b11e-f169b03239af"
   },
   "outputs": [
    {
     "data": {
      "text/plain": [
       "(9, 30, 30, 3)"
      ]
     },
     "execution_count": 41,
     "metadata": {},
     "output_type": "execute_result"
    }
   ],
   "source": [
    "batch_of_images = np.stack([red_image] * 9, axis=0)\n",
    "batch_of_images.shape"
   ]
  },
  {
   "cell_type": "markdown",
   "metadata": {
    "colab_type": "text",
    "id": "94HvpWpBAkwY"
   },
   "source": [
    "### Exercise: Use the `gallery` helper function\n",
    "\n",
    "To display the `batch_of_images` we just created in a 3x3 grid."
   ]
  },
  {
   "cell_type": "code",
   "execution_count": 42,
   "metadata": {
    "colab": {},
    "colab_type": "code",
    "id": "m9QGtoU4BW6j"
   },
   "outputs": [],
   "source": [
    "#@title Your Code\n",
    "\n",
    "## Your code here ##"
   ]
  },
  {
   "cell_type": "code",
   "execution_count": 43,
   "metadata": {
    "cellView": "form",
    "colab": {
     "base_uri": "https://localhost:8080/",
     "height": 359
    },
    "colab_type": "code",
    "id": "YA0rgSbY9OTp",
    "outputId": "39c0945d-1423-4e0f-c6f9-2bad296c1632"
   },
   "outputs": [
    {
     "data": {
      "image/png": "[encoded data removed]",
      "text/plain": [
       "<matplotlib.figure.Figure at 0x112fcc5c0>"
      ]
     },
     "metadata": {},
     "output_type": "display_data"
    }
   ],
   "source": [
    "#@title Solution\n",
    "\n",
    "plt.figure()\n",
    "plt.axis('off')\n",
    "plt.imshow(gallery(batch_of_images, ncols=3, rescale=False))\n",
    "plt.show()"
   ]
  },
  {
   "cell_type": "markdown",
   "metadata": {
    "colab_type": "text",
    "id": "EUL0KYtHJqC4"
   },
   "source": [
    "You may want to change the size of the figure, like so:"
   ]
  },
  {
   "cell_type": "code",
   "execution_count": 44,
   "metadata": {
    "colab": {
     "base_uri": "https://localhost:8080/",
     "height": 223
    },
    "colab_type": "code",
    "id": "6q3Lf6zhJyRE",
    "outputId": "1302ee55-4050-4b31-8a3b-b5e7ff264d74"
   },
   "outputs": [
    {
     "data": {
      "image/png": "[encoded data removed]",
      "text/plain": [
       "<matplotlib.figure.Figure at 0x112d9a6d8>"
      ]
     },
     "metadata": {},
     "output_type": "display_data"
    }
   ],
   "source": [
    "plt.figure(figsize=(7, 7))\n",
    "plt.gray()\n",
    "plt.axis('off')\n",
    "plt.imshow(gallery(batch_of_images, ncols=3, rescale=False))\n",
    "plt.show()"
   ]
  },
  {
   "cell_type": "markdown",
   "metadata": {
    "colab_type": "text",
    "id": "DgtndZYlZ4Wn"
   },
   "source": [
    "### Final Notes\n",
    "\n",
    "`matplotlib` has many different types of plots and is really flexible. You can make any plot you can imagine with it. $^{TM}$.\n",
    "\n",
    "#### Seaborn\n",
    "\n",
    "The [seaborn](https://seaborn.pydata.org/) package is very good at making many standard, beautiful and potentially complex plots. We do not cover it here, though. You *may* have noticed that we imported it with `import seaborn as sns`: we use it for its style presets only. This was applied by running `sns.set_style('ticks')`.\n"
   ]
  },
  {
   "cell_type": "markdown",
   "metadata": {
    "colab_type": "text",
    "id": "IQ0Ip-SVb3Nc"
   },
   "source": [
    "## That's all, folks!\n",
    "\n",
    "For now."
   ]
  }
 ],
 "metadata": {
  "colab": {
   "collapsed_sections": [],
   "include_colab_link": true,
   "name": "Intro: Numpy.ipynb",
   "provenance": [],
   "toc_visible": true,
   "version": "0.3.2"
  },
  "kernelspec": {
   "display_name": "Python 3",
   "language": "python",
   "name": "python3"
  },
  "language_info": {
   "codemirror_mode": {
    "name": "ipython",
    "version": 3
   },
   "file_extension": ".py",
   "mimetype": "text/x-python",
   "name": "python",
   "nbconvert_exporter": "python",
   "pygments_lexer": "ipython3",
   "version": "3.6.4"
  }
 },
 "nbformat": 4,
 "nbformat_minor": 1
}
